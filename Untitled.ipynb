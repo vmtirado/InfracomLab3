{
 "cells": [
  {
   "cell_type": "code",
   "execution_count": null,
   "metadata": {},
   "outputs": [],
   "source": [
    "import socket\n",
    "from threading import Thread\n",
    "from socketserver import ThreadingMixIn\n",
    "\n",
    "TCP_IP = 'localhost'\n",
    "TCP_PORT = 9001\n",
    "BUFFER_SIZE = 1024\n",
    "\n",
    "print(\"OCURRE ALGO\")\n",
    "\n",
    "class ClientThread(Thread):\n",
    "\n",
    "    def _init_(self,ip,port,sock):\n",
    "        Thread._init_(self)\n",
    "        self.ip = ip\n",
    "        self.port = port\n",
    "        self.sock = sock\n",
    "        print (\" New thread started for \" + ip + \":\"+str(port))\n",
    "\n",
    "    def run(self):\n",
    "        filename ='temp_100MB_file'\n",
    "        f = open(filename,'rb')\n",
    "        while True:\n",
    "            l = f.read(BUFFER_SIZE)\n",
    "            while (l):\n",
    "                self.sock.send(l)\n",
    "                #print('Sent ',repr(l))\n",
    "                l = f.read(BUFFER_SIZE)\n",
    "            if not l:\n",
    "                f.close()\n",
    "                self.sock.close()\n",
    "                break\n",
    "\n",
    "tcpsock = socket.socket(socket.AF_INET, socket.SOCK_STREAM)\n",
    "tcpsock.setsockopt(socket.SOL_SOCKET, socket.SO_REUSEADDR, 1)\n",
    "tcpsock.bind((TCP_IP, TCP_PORT))\n",
    "threads = []\n",
    "\n",
    "while True:\n",
    "    tcpsock.listen(5)\n",
    "    print (\"Waiting for incoming connections...\")\n",
    "    (conn, (ip,port)) = tcpsock.accept()\n",
    "    print ('Got connection from ', (ip,port))\n",
    "    newthread = ClientThread(ip,port,conn)\n",
    "    newthread.start()\n",
    "    threads.append(newthread)\n",
    "\n",
    "for t in threads:\n",
    "    t.join()"
   ]
  },
  {
   "cell_type": "code",
   "execution_count": null,
   "metadata": {},
   "outputs": [],
   "source": [
    "%qtconsole"
   ]
  },
  {
   "cell_type": "code",
   "execution_count": null,
   "metadata": {},
   "outputs": [],
   "source": [
    "#!/usr/bin/env python\n",
    "import socket\n",
    "\n",
    "TCP_IP = 'localhost'\n",
    "TCP_PORT = 9001\n",
    "BUFFER_SIZE = 1024\n",
    "\n",
    "s = socket.socket(socket.AF_INET, socket.SOCK_STREAM)\n",
    "s.connect((TCP_IP, TCP_PORT))\n",
    "with open('received_file', 'wb') as f:\n",
    "    print ('file opened')\n",
    "    while True:\n",
    "        #print('receiving data...')\n",
    "        data = s.recv(BUFFER_SIZE)\n",
    "        print('data=%s')\n",
    "        if not data:\n",
    "            f.close()\n",
    "            print ('file close()')\n",
    "            break\n",
    "        # write data to a file\n",
    "        f.write(data)\n",
    "\n",
    "print('Successfully get the file')\n",
    "s.close()\n",
    "print('connection closed')"
   ]
  },
  {
   "cell_type": "code",
   "execution_count": null,
   "metadata": {},
   "outputs": [],
   "source": [
    "%qtconsole"
   ]
  },
  {
   "cell_type": "code",
   "execution_count": null,
   "metadata": {},
   "outputs": [],
   "source": []
  }
 ],
 "metadata": {
  "kernelspec": {
   "display_name": "Python 3",
   "language": "python",
   "name": "python3"
  },
  "language_info": {
   "codemirror_mode": {
    "name": "ipython",
    "version": 3
   },
   "file_extension": ".py",
   "mimetype": "text/x-python",
   "name": "python",
   "nbconvert_exporter": "python",
   "pygments_lexer": "ipython3",
   "version": "3.7.4"
  }
 },
 "nbformat": 4,
 "nbformat_minor": 4
}
